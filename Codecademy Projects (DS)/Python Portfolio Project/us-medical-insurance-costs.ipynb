{
 "cells": [
  {
   "cell_type": "markdown",
   "metadata": {},
   "source": [
    "# U.S. Medical Insurance Costs"
   ]
  },
  {
   "cell_type": "code",
   "execution_count": 3,
   "metadata": {},
   "outputs": [],
   "source": [
    "import pandas as pd\n",
    "import csv"
   ]
  },
  {
   "cell_type": "markdown",
   "metadata": {},
   "source": [
    "### Load the file"
   ]
  },
  {
   "cell_type": "code",
   "execution_count": 4,
   "metadata": {},
   "outputs": [],
   "source": [
    "insurance = pd.read_csv(r\"C:\\Users\\Mantis\\Codecademy Projects\\Python Portfolio Project\\python-portfolio-project-starter-files\\insurance.csv\")"
   ]
  },
  {
   "cell_type": "code",
   "execution_count": 5,
   "metadata": {},
   "outputs": [],
   "source": [
    "# alternative\n",
    "headers = ['age', 'sex', 'bmi', 'children', 'smoker', 'region', 'charges']\n",
    "insurance_dict = {header: [] for header in headers}\n",
    "\n",
    "with open(r\"C:\\Users\\Mantis\\Codecademy Projects\\Python Portfolio Project\\python-portfolio-project-starter-files\\insurance.csv\", 'r') as insurance_raw:\n",
    "    insurance_csv = csv.DictReader(insurance_raw)\n",
    "    \n",
    "    for row in insurance_csv:\n",
    "        for header in headers:   \n",
    "            insurance_dict[header].append(row[header])        "
   ]
  },
  {
   "cell_type": "markdown",
   "metadata": {},
   "source": [
    "### Check for data/types, nulls, describe data"
   ]
  },
  {
   "cell_type": "code",
   "execution_count": 6,
   "metadata": {},
   "outputs": [
    {
     "data": {
      "text/html": [
       "<div>\n",
       "<style scoped>\n",
       "    .dataframe tbody tr th:only-of-type {\n",
       "        vertical-align: middle;\n",
       "    }\n",
       "\n",
       "    .dataframe tbody tr th {\n",
       "        vertical-align: top;\n",
       "    }\n",
       "\n",
       "    .dataframe thead th {\n",
       "        text-align: right;\n",
       "    }\n",
       "</style>\n",
       "<table border=\"1\" class=\"dataframe\">\n",
       "  <thead>\n",
       "    <tr style=\"text-align: right;\">\n",
       "      <th></th>\n",
       "      <th>age</th>\n",
       "      <th>sex</th>\n",
       "      <th>bmi</th>\n",
       "      <th>children</th>\n",
       "      <th>smoker</th>\n",
       "      <th>region</th>\n",
       "      <th>charges</th>\n",
       "    </tr>\n",
       "  </thead>\n",
       "  <tbody>\n",
       "    <tr>\n",
       "      <th>0</th>\n",
       "      <td>19</td>\n",
       "      <td>female</td>\n",
       "      <td>27.900</td>\n",
       "      <td>0</td>\n",
       "      <td>yes</td>\n",
       "      <td>southwest</td>\n",
       "      <td>16884.92400</td>\n",
       "    </tr>\n",
       "    <tr>\n",
       "      <th>1</th>\n",
       "      <td>18</td>\n",
       "      <td>male</td>\n",
       "      <td>33.770</td>\n",
       "      <td>1</td>\n",
       "      <td>no</td>\n",
       "      <td>southeast</td>\n",
       "      <td>1725.55230</td>\n",
       "    </tr>\n",
       "    <tr>\n",
       "      <th>2</th>\n",
       "      <td>28</td>\n",
       "      <td>male</td>\n",
       "      <td>33.000</td>\n",
       "      <td>3</td>\n",
       "      <td>no</td>\n",
       "      <td>southeast</td>\n",
       "      <td>4449.46200</td>\n",
       "    </tr>\n",
       "    <tr>\n",
       "      <th>3</th>\n",
       "      <td>33</td>\n",
       "      <td>male</td>\n",
       "      <td>22.705</td>\n",
       "      <td>0</td>\n",
       "      <td>no</td>\n",
       "      <td>northwest</td>\n",
       "      <td>21984.47061</td>\n",
       "    </tr>\n",
       "    <tr>\n",
       "      <th>4</th>\n",
       "      <td>32</td>\n",
       "      <td>male</td>\n",
       "      <td>28.880</td>\n",
       "      <td>0</td>\n",
       "      <td>no</td>\n",
       "      <td>northwest</td>\n",
       "      <td>3866.85520</td>\n",
       "    </tr>\n",
       "  </tbody>\n",
       "</table>\n",
       "</div>"
      ],
      "text/plain": [
       "   age     sex     bmi  children smoker     region      charges\n",
       "0   19  female  27.900         0    yes  southwest  16884.92400\n",
       "1   18    male  33.770         1     no  southeast   1725.55230\n",
       "2   28    male  33.000         3     no  southeast   4449.46200\n",
       "3   33    male  22.705         0     no  northwest  21984.47061\n",
       "4   32    male  28.880         0     no  northwest   3866.85520"
      ]
     },
     "execution_count": 6,
     "metadata": {},
     "output_type": "execute_result"
    }
   ],
   "source": [
    "insurance.head()"
   ]
  },
  {
   "cell_type": "code",
   "execution_count": 7,
   "metadata": {},
   "outputs": [
    {
     "name": "stdout",
     "output_type": "stream",
     "text": [
      "<class 'pandas.core.frame.DataFrame'>\n",
      "RangeIndex: 1338 entries, 0 to 1337\n",
      "Data columns (total 7 columns):\n",
      " #   Column    Non-Null Count  Dtype  \n",
      "---  ------    --------------  -----  \n",
      " 0   age       1338 non-null   int64  \n",
      " 1   sex       1338 non-null   object \n",
      " 2   bmi       1338 non-null   float64\n",
      " 3   children  1338 non-null   int64  \n",
      " 4   smoker    1338 non-null   object \n",
      " 5   region    1338 non-null   object \n",
      " 6   charges   1338 non-null   float64\n",
      "dtypes: float64(2), int64(2), object(3)\n",
      "memory usage: 73.3+ KB\n"
     ]
    }
   ],
   "source": [
    "insurance.info()"
   ]
  },
  {
   "cell_type": "code",
   "execution_count": null,
   "metadata": {},
   "outputs": [],
   "source": []
  },
  {
   "cell_type": "markdown",
   "metadata": {},
   "source": [
    "### Test some hypotesis"
   ]
  },
  {
   "cell_type": "markdown",
   "metadata": {},
   "source": [
    "Some possible ideas for analysis are the following:\n",
    "\n",
    "- Find out the average age of the patients in the dataset.\n",
    "- Analyze where a majority of the individuals are from.\n",
    "- Look at the different costs between smokers vs. non-smokers.\n",
    "- Figure out what the average age is for someone who has at least one child in this dataset."
   ]
  },
  {
   "cell_type": "code",
   "execution_count": 8,
   "metadata": {},
   "outputs": [
    {
     "data": {
      "text/plain": [
       "39.20702541106129"
      ]
     },
     "execution_count": 8,
     "metadata": {},
     "output_type": "execute_result"
    }
   ],
   "source": [
    "# average age of the patients\n",
    "insurance['age'].mean()"
   ]
  },
  {
   "cell_type": "code",
   "execution_count": 9,
   "metadata": {},
   "outputs": [
    {
     "data": {
      "text/plain": [
       "39.20702541106129"
      ]
     },
     "execution_count": 9,
     "metadata": {},
     "output_type": "execute_result"
    }
   ],
   "source": [
    "# alternative average age of the patients\n",
    "insurance_dict_age = list(map(int, insurance_dict['age'])) # to int\n",
    "sum(insurance_dict_age) / len(insurance_dict_age)"
   ]
  },
  {
   "cell_type": "markdown",
   "metadata": {},
   "source": []
  },
  {
   "cell_type": "code",
   "execution_count": 10,
   "metadata": {
    "scrolled": true
   },
   "outputs": [
    {
     "data": {
      "text/plain": [
       "southeast    364\n",
       "southwest    325\n",
       "northwest    325\n",
       "northeast    324\n",
       "Name: region, dtype: int64"
      ]
     },
     "execution_count": 10,
     "metadata": {},
     "output_type": "execute_result"
    }
   ],
   "source": [
    "# where a majority of the individuals are from\n",
    "insurance.region.value_counts()"
   ]
  },
  {
   "cell_type": "code",
   "execution_count": 11,
   "metadata": {},
   "outputs": [
    {
     "data": {
      "text/plain": [
       "{'southeast': 364, 'southwest': 325, 'northeast': 324, 'northwest': 325}"
      ]
     },
     "execution_count": 11,
     "metadata": {},
     "output_type": "execute_result"
    }
   ],
   "source": [
    "# alternative where a majority of the individuals are from\n",
    "insurance_dict_unique = list(set(insurance_dict['region'])) # unique values\n",
    "{key: insurance_dict['region'].count(key) for key in insurance_dict_unique}"
   ]
  },
  {
   "cell_type": "code",
   "execution_count": null,
   "metadata": {},
   "outputs": [],
   "source": []
  },
  {
   "cell_type": "code",
   "execution_count": 12,
   "metadata": {},
   "outputs": [
    {
     "data": {
      "text/plain": [
       "smoker\n",
       "no      8434.268298\n",
       "yes    32050.231832\n",
       "Name: charges, dtype: float64"
      ]
     },
     "execution_count": 12,
     "metadata": {},
     "output_type": "execute_result"
    }
   ],
   "source": [
    "# different costs between smokers vs. non-smokers.\n",
    "insurance \\\n",
    "    .groupby('smoker') \\\n",
    "    .agg('mean') \\\n",
    "    .charges"
   ]
  },
  {
   "cell_type": "code",
   "execution_count": 13,
   "metadata": {},
   "outputs": [
    {
     "name": "stdout",
     "output_type": "stream",
     "text": [
      "smoker average charges: 32050.23183153285\n",
      "nonsmoker average charges: 8434.268297856199\n"
     ]
    }
   ],
   "source": [
    "# alternative different costs between smokers vs. non-smokers.\n",
    "sum_smoker, sum_nonsmoker, count_smoker, count_nonsmoker = 0, 0, 0, 0\n",
    "\n",
    "for row in range(len(insurance_dict['smoker'])):\n",
    "    if insurance_dict['smoker'][row] == 'no':\n",
    "        count_nonsmoker += 1\n",
    "        sum_nonsmoker += float(insurance_dict['charges'][row])\n",
    "    else:\n",
    "        count_smoker += 1\n",
    "        sum_smoker += float(insurance_dict['charges'][row])\n",
    "\n",
    "print(f'smoker average charges: {sum_smoker/count_smoker}\\nnonsmoker average charges: {sum_nonsmoker/count_nonsmoker}')"
   ]
  },
  {
   "cell_type": "code",
   "execution_count": 90,
   "metadata": {},
   "outputs": [
    {
     "data": {
      "text/plain": [
       "39.78010471204188"
      ]
     },
     "execution_count": 90,
     "metadata": {},
     "output_type": "execute_result"
    }
   ],
   "source": [
    "# average age is for someone who has at least one child in this dataset.\n",
    "insurance.query('children >= 1').age.mean()"
   ]
  },
  {
   "cell_type": "code",
   "execution_count": 93,
   "metadata": {},
   "outputs": [
    {
     "name": "stdout",
     "output_type": "stream",
     "text": [
      "average age for people with at least one child is 39.78010471204188\n"
     ]
    }
   ],
   "source": [
    "# alternative age is for someone who has at least one child in this dataset.\n",
    "sum_many, count_many = 0, 0\n",
    "\n",
    "for i in range(len(insurance_dict['children'])):\n",
    "    if int(insurance_dict['children'][i]) >= 1:\n",
    "        sum_many += int(insurance_dict['age'][i])\n",
    "        count_many += 1\n",
    "print(f'average age for people with at least one child is {sum_many/count_many}')"
   ]
  },
  {
   "cell_type": "markdown",
   "metadata": {},
   "source": [
    "### Let's create class to perform simple analysis for values in dict (such as mean, median and std.dev)"
   ]
  },
  {
   "cell_type": "code",
   "execution_count": 84,
   "metadata": {},
   "outputs": [],
   "source": [
    "class InsuranceAnalysis:\n",
    "    \n",
    "    def __init__(self, dic: dict): # setup column for analysis and type\n",
    "        self.dic = dic\n",
    "        \n",
    "    def __repr__(self):\n",
    "        return self.dic\n",
    "    \n",
    "    def perform_analysis(self, column: str, analysis_type: str):\n",
    "        \n",
    "        if column in self.dic.keys():\n",
    "            self.column = column\n",
    "        else:\n",
    "            raise ValueError(f\"No such columns in dict\")\n",
    "            \n",
    "        if analysis_type in ['median', 'mean', 'std.dev']:\n",
    "            self.analysis_type = analysis_type\n",
    "        else:\n",
    "            raise ValueError(\"Unknown type of analysis\")\n",
    "            \n",
    "        try:\n",
    "            dict_param = list(map(float, self.dic[column])) # to int\n",
    "        except ValueError:\n",
    "            if len(list(set(self.dic[column]))) == 2:\n",
    "                first  = list(set(self.dic[column]))[0]\n",
    "                second = list(set(self.dic[column]))[1]\n",
    "                dict_param = [0 if i == first else 1 for i in self.dic[column]]\n",
    "                print(f'{first}: 0, {second}: 1')\n",
    "            else:\n",
    "                raise ValueError(\"Cannot transfort str to int\") \n",
    "        \n",
    "        if analysis_type == 'mean':\n",
    "            return sum(dict_param) / len(dict_param)\n",
    "        \n",
    "        elif analysis_type == 'median':\n",
    "            dict_param = sorted(dict_param)\n",
    "            if len(dict_param) % 2 == 0:\n",
    "                return (dict_param[int(len(dict_param) / 2 - 1)] + dict_param[int(len(dict_param) / 2)]) / 2\n",
    "            else:\n",
    "                return dict_param[int(len(dict_param))]\n",
    "        else:\n",
    "            avg = sum(dict_param) / len(dict_param)\n",
    "            return (sum([(i-avg)**2 for i in dict_param]) / (len(dict_param) - 1))**0.5"
   ]
  },
  {
   "cell_type": "code",
   "execution_count": 85,
   "metadata": {},
   "outputs": [],
   "source": [
    "test = InsuranceAnalysis(insurance_dict)"
   ]
  },
  {
   "cell_type": "code",
   "execution_count": 95,
   "metadata": {},
   "outputs": [
    {
     "data": {
      "text/plain": [
       "12110.011236693994"
      ]
     },
     "execution_count": 95,
     "metadata": {},
     "output_type": "execute_result"
    }
   ],
   "source": [
    "test.perform_analysis('charges', 'std.dev')"
   ]
  },
  {
   "cell_type": "code",
   "execution_count": 94,
   "metadata": {},
   "outputs": [
    {
     "data": {
      "text/plain": [
       "12110.011236693994"
      ]
     },
     "execution_count": 94,
     "metadata": {},
     "output_type": "execute_result"
    }
   ],
   "source": [
    "insurance.charges.std()"
   ]
  },
  {
   "cell_type": "code",
   "execution_count": null,
   "metadata": {},
   "outputs": [],
   "source": []
  }
 ],
 "metadata": {
  "kernelspec": {
   "display_name": "Python 3",
   "language": "python",
   "name": "python3"
  },
  "language_info": {
   "codemirror_mode": {
    "name": "ipython",
    "version": 3
   },
   "file_extension": ".py",
   "mimetype": "text/x-python",
   "name": "python",
   "nbconvert_exporter": "python",
   "pygments_lexer": "ipython3",
   "version": "3.8.8"
  }
 },
 "nbformat": 4,
 "nbformat_minor": 4
}
